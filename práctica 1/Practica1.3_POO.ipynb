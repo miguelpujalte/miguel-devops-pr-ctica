{
 "cells": [
  {
   "cell_type": "code",
   "execution_count": null,
   "id": "aa0fd0be",
   "metadata": {},
   "outputs": [],
   "source": [
    "#clase producto \n",
    "class Producto:\n",
    "    #Clase que representa un producto genérico en la tienda\n",
    "   \n",
    "    def __init__(self, identificador, name, price, stock):\n",
    "        self.identificador = identificador\n",
    "        self.name = name\n",
    "        self.price = price\n",
    "        self.stock = stock\n",
    "        \n",
    "        \n",
    "    def __str__(self):\n",
    "    \n",
    "    #Devuelve un texto con la información básica del producto\n",
    "        return f\"identificador: {self.identificador}, name: {self.name}, price: {self.price}, stock: {self.stock}\"\n",
    "    \n",
    "class \n",
    "        \n"
   ]
  }
 ],
 "metadata": {
  "language_info": {
   "name": "python"
  }
 },
 "nbformat": 4,
 "nbformat_minor": 5
}

{
 "cells": [
  {
   "cell_type": "markdown",
   "id": "18e46414",
   "metadata": {},
   "source": [
    "# Conceptos básicos de Python\n",
    "\n",
    "Este notebook pretende facilitar a los alumnos de las asignatura \"Arquitectura del Software\" la familiarización con Python y una serie de librerías y herramientas asociadas para la realización de las prácticas de dichas asignaturas.\n",
    "\n",
    "Para ello, el primer paso es familiarizarse con el uso de Python. \n",
    "Python es un lenguaje orientado a objetos (OO), con ciertas similaridades pero también muchas diferencias con respecto a otros lenguajes OO como Java.\n",
    "\n",
    "La principal diferencia, es que Python es un lenguaje **interpretado** y **no compilado** como pueden ser `C`, o `Java`. Esto hace que el código Python sea ejecutado línea a línea en una consola, lo que permite programar de forma interactiva. \n",
    "El intérprete base de python es el `Python interpreter`, pero hay otros como `IPython` con funciones adicionales.\n",
    "Para el desarrollo de estas prácticas utilizaremos **[Jupyter Notebooks](https://jupyter.readthedocs.io/en/latest/index.html)**, un formato de documento que permite la inclusión de código ejecutable, texto formateado y gráficos de forma combinada en un mismo documento. En particular, este documento está creado con un Jupyter Notebook.\n",
    "\n",
    "---\n",
    "**IMPORTANTE**: Como referencia básica podeis utilize el libro de *Jake VanderPlas* titulado [*A Whirlwind Tour of Pyhton*](https://jakevdp.github.io/WhirlwindTourOfPython/) disponible de forma gratuita en forma de *github page* [aquí](https://jakevdp.github.io/WhirlwindTourOfPython/). Es un libro muy completo, que ha servido de base para este tutorial, ya que está enfocado precisamente a usuarios que ya conocen los elementos básicos de la programación en otros lenguajes y quieren aprender Python. Entre esta referencia y la [documentación de Python](https://docs.python.org/3/) en la que se incluye un [tutorial](https://docs.python.org/3/tutorial/index.html) deberíais tener recursos suficientes para dominar Python. Aun así, tenéis otros recursos disponibles como *stack overflow*, etc., más que de sobra conocidos, en los que consultar y resolver todas vuestras posibles dudas.\n",
    "\n",
    "---\n",
    "\n",
    "### Jupyter Notebooks\n",
    "Para editar una celda (cada uno de los bloques de texto o código que véis en el documento), basta con hacer doble click sobre ella. Si queréis cambiar el tipo de celda (código o texto en markdown), tenéis que seleccionar la opción *cell* del menú y en el submenú *>cell type* elegir el tipo que queréis.\n",
    "Para añadir una nueva celda basta con utilizar la opción *insert* del menú y seleccionar si se desea insertar encima o debajo de la celda actual.\n",
    "Para ejecutar una celda o procesar el texto en formato markdown basta con pulsar el botón *|> run* del menú, o utilizar el atajo *ctrl + enter*.\n",
    "\n",
    "**Importante** antes de cerrar la ventana del explorador, o de detener el proceso de *Jupter Notebook* recordad guardar el Notebook. No se guarda automáticamente.\n"
   ]
  },
  {
   "cell_type": "markdown",
   "id": "45f5ab84",
   "metadata": {},
   "source": [
    "# Sintaxis de Python\n",
    "Primero estudiaremos la sintaxis de Python, esto es, la estrutura del lenguaje y los aspectos que caracterizan un programa formado correctamente.\n",
    "\n",
    "## Comentarios\n",
    "Los comentarios se indican con `#`. Python ignora todo aquello que se escribe después de un `#`, por lo que se pueden tener líneas que únicamente contengan comentarios, así como comentarios \"inline\" que acompañen líneas de código. Por ejemplo:"
   ]
  },
  {
   "cell_type": "code",
   "execution_count": 1,
   "id": "59e51231",
   "metadata": {},
   "outputs": [],
   "source": [
    "# esto es un comentario \"standalone\"\n",
    "x = 2 # esto es un comentario que explica una linea de codigo"
   ]
  },
  {
   "cell_type": "markdown",
   "id": "79ac77a6",
   "metadata": {},
   "source": [
    "## Final de línea\n",
    "A diferencia de lenguajes como Java o C y de forma análoga a Kotlin, en Python no es necesario utilizar `;` para indicar el final de una linea, el caracter de final de linea es el salto de linea.\n",
    "En cambio, si se desea incluir más de una sentencia en una línea (esto está desaconsejado), puede utilizarse el `;` para ello.\n",
    "Si se escribe una sentencia que ocupa más de una linea y se quiere continuar en la siguiente, esto puedes hacerse utilizando la barra invertida `\\` o encerrando la parte de asignación de la secuencia (lo que está después del igual) entre paréntesis `()`. Por ejemplo:"
   ]
  },
  {
   "cell_type": "code",
   "execution_count": 2,
   "id": "0c3f5660",
   "metadata": {},
   "outputs": [],
   "source": [
    "# sentencia correcta en python\n",
    "x += 3\n",
    "\n",
    "# podemos poner dos sentencias en una linea con ;\n",
    "y = 1; z = 4\n",
    "\n",
    "# podemos escribir una sentencia de mas de una linea usando \\\n",
    "w = 1 + 2 + 3 +\\\n",
    "4 \n",
    "\n",
    "# o usando los parentesis\n",
    "v = (4 + 3 + 2 +\n",
    "    1 + 0)"
   ]
  },
  {
   "cell_type": "markdown",
   "id": "62bd09f5",
   "metadata": {},
   "source": [
    "Podemos comprobar los resultados de las sentencias de asignación que acabamos de escribir imprimiendo los valores de estas variables."
   ]
  },
  {
   "cell_type": "code",
   "execution_count": 3,
   "id": "b46e5e8a",
   "metadata": {},
   "outputs": [
    {
     "name": "stdout",
     "output_type": "stream",
     "text": [
      "Variable x: 5\n",
      "Variable y: 1\n",
      "Variable z: 4\n",
      "Variable w: 10\n",
      "Variable v: 10\n"
     ]
    }
   ],
   "source": [
    "print('Variable x:', x)\n",
    "print('Variable y:', y)\n",
    "print('Variable z:', z)\n",
    "print('Variable w:', w)\n",
    "print('Variable v:', v)\n"
   ]
  },
  {
   "cell_type": "markdown",
   "id": "f2f01d41",
   "metadata": {},
   "source": [
    "## Indentación\n",
    "En Python, para definir bloques de código o secuencias de control de flujo (conjunto de sentencias que se ejecutan en grupo) como bucles o condicionales, en lugar de utiliar llaves `{}` se utiliza la *indentación*. Esto es, el uso de espacios **antes** del comienzo de una sentencia, identifica a qué bloque de código pertenece una línea o sentencia concreta.\n",
    "Además, los bloques de código indentado siempre están prececidos por dos puntos `:`. Por ejemplo:"
   ]
  },
  {
   "cell_type": "code",
   "execution_count": 5,
   "id": "75dfda08",
   "metadata": {},
   "outputs": [
    {
     "name": "stdout",
     "output_type": "stream",
     "text": [
      "0 1 2 3 4 "
     ]
    }
   ],
   "source": [
    "# bucle de 0 a 10 con un condicional que imprime el valor de x si i es menor que 5\n",
    "for i in range(10):\n",
    "    if i < 5:\n",
    "        x = i\n",
    "        print(x, end=\" \")\n",
    "        "
   ]
  },
  {
   "cell_type": "markdown",
   "id": "9b780429",
   "metadata": {},
   "source": [
    "En cambio, si no se indenta correctamente, el resultado obtenido es totalmente distinto:"
   ]
  },
  {
   "cell_type": "code",
   "execution_count": 6,
   "id": "805cc83e",
   "metadata": {},
   "outputs": [
    {
     "name": "stdout",
     "output_type": "stream",
     "text": [
      "0 1 2 3 4 4 4 4 4 4 "
     ]
    }
   ],
   "source": [
    "# bucle de 0 a 10 con un condicional, pero la sentencia de print no está indentada\n",
    "for i in range(10):\n",
    "    if i < 5:\n",
    "        x = i\n",
    "    print(x, end=\" \") # al no estar indentada dentro del if, el valor de x se imprimirá siempre"
   ]
  },
  {
   "cell_type": "markdown",
   "id": "678e14b0",
   "metadata": {},
   "source": [
    "El espaciado *intra*-linea no es relevante, es decir, después de la indentación, una vez que comienza el código de una línea, los espacios son ignorados, por lo que las siguientes lineas de código son equivalentes. Aunque la recomendación general de las guías de estilo de Python es de dejar 1 espacio entre operadores."
   ]
  },
  {
   "cell_type": "code",
   "execution_count": 6,
   "id": "8461bc2b",
   "metadata": {},
   "outputs": [],
   "source": [
    "x=1+2\n",
    "x = 1 + 2\n",
    "x   =   1   +   2"
   ]
  },
  {
   "cell_type": "markdown",
   "id": "61b0c565",
   "metadata": {},
   "source": [
    "---\n",
    "\n",
    "### Ejercicio\n",
    "Ahora, probad vosotros a escribir de forma similar a lo que acabamos de ver, un bucle de 0 a 10 con un condicional que imprima el valor de x si es mayor que 5. Para ejecutar la celda de código, basta con escribir el código que queréis que se ejecute y pulsar \"Ctrl + Enter\"."
   ]
  },
  {
   "cell_type": "code",
   "execution_count": 7,
   "id": "eda71db0",
   "metadata": {
    "tags": [
     "hide-input"
    ]
   },
   "outputs": [
    {
     "name": "stdout",
     "output_type": "stream",
     "text": [
      "6 7 8 9 "
     ]
    }
   ],
   "source": [
    "# escribe aqui tu codigo\n",
    "for i in range(10):\n",
    "    if i > 5:\n",
    "        x = i\n",
    "        print(x, end=\" \")"
   ]
  },
  {
   "cell_type": "markdown",
   "id": "0a3afeaf",
   "metadata": {},
   "source": [
    "---\n",
    "\n",
    "# Semántica\n",
    "Esta sección cubre la semántica básica de Python, principalmente la semántica de variables y objetos, la principal forma de almacenar, referenciar y operar con datos en Python.\n",
    "\n",
    "## Variables y objetos\n",
    "Asignar valor a variables en Python se hace como en muchos otros lenguajes, con el símbolo `=`. Pero a diferencia de Java o C, Python es un programa tipado dinámicamente. Esto quiere decir que los nombres de las variables pueden apuntar a objetos de cualquier tipo sin necesidad de definir explícitamente el tipo de la variable. En Python, los tipos están vinculados no a las variables, si no a los objetos en sí. Además, en Python **todas las variables son punteros**. Es decir, cuando se define una variable `x`en Python, en realidad se está definiendo un puntero de nombre `x` que apunta a un contenedor de memoria (objeto)\n",
    "con el valor que le asignemos. Por lo que cosas como la siguiente son posibles.\n"
   ]
  },
  {
   "cell_type": "code",
   "execution_count": 8,
   "id": "dd7394cf",
   "metadata": {},
   "outputs": [],
   "source": [
    "x = 1 # x es un entero\n",
    "x = 'hola' # x es un string\n",
    "x = [1,2,3] # x es una lista"
   ]
  },
  {
   "cell_type": "markdown",
   "id": "d22977a6",
   "metadata": {},
   "source": [
    "Si ahora definimos una nueva variable `y` que apunte al mismo contenedor que `x` con la instrucción `y = x` entonces, cuando modifiquemos `x` el valor de `y` también se verá modificado, ya que ambas variables apuntan al mismo contenedor de memoria."
   ]
  },
  {
   "cell_type": "code",
   "execution_count": 9,
   "id": "1ab3c77a",
   "metadata": {},
   "outputs": [
    {
     "name": "stdout",
     "output_type": "stream",
     "text": [
      "[1, 2, 3]\n",
      "[1, 2, 3, 4]\n"
     ]
    }
   ],
   "source": [
    "y = x\n",
    "print(y)\n",
    "x.append(4)\n",
    "print(y)"
   ]
  },
  {
   "cell_type": "markdown",
   "id": "c308ad0a",
   "metadata": {},
   "source": [
    "Esto solo ocurre con las modificaciones de las variables. Si ahora en cambio hacemos una **nueva asignación** es decir, le asignamos a la variable `x` un nuevo valor, entonces ahora apuntará a otro contenedor de memoria y la variable `y` mantendrá el mismo valor que tenía antes (sigue apuntando al mismo contenedor de memoria)."
   ]
  },
  {
   "cell_type": "code",
   "execution_count": 10,
   "id": "46ed20ad",
   "metadata": {},
   "outputs": [
    {
     "name": "stdout",
     "output_type": "stream",
     "text": [
      "[1, 2, 3, 4]\n"
     ]
    }
   ],
   "source": [
    "x = 'otra cosa'\n",
    "print(y)"
   ]
  },
  {
   "cell_type": "markdown",
   "id": "b6a3c166",
   "metadata": {},
   "source": [
    "Es importante tener en cuenta que todos los *tipos simples* en Python (números, strings, etc) son inmutables, por lo que cuando se realiza una operación aritmética sobre ellos, no se está actualizando su valor, si no que se calcula el resultado de la operación, se almacena en otro contenedor de memoria y se actualiza la variable para que apunte a ese nuevo contenedor. Por lo que si `y` y `x` son variables numéricas que apuntan al mismo contenedor, y realizamos una operación aritmética sobre `x`, el valor de `y` no se verá modificado (seguirá apuntando al contenedor de memoria original)."
   ]
  },
  {
   "cell_type": "code",
   "execution_count": 10,
   "id": "aa07321c",
   "metadata": {},
   "outputs": [
    {
     "name": "stdout",
     "output_type": "stream",
     "text": [
      "x =  2\n",
      "y =  1\n"
     ]
    }
   ],
   "source": [
    "x = 1\n",
    "y = x\n",
    "x += 1\n",
    "print(\"x = \", x)\n",
    "print(\"y = \", y)"
   ]
  },
  {
   "cell_type": "markdown",
   "id": "0c5e50f7",
   "metadata": {},
   "source": [
    "---\n",
    "\n",
    "### Ejercicio\n",
    "Probad a definir dos variables, `a` y `b`, dándole valores de distintos tipos a cada una para ver como independientemente del tipo que le asignéis no da lugar a errores. ¿Si hacéis `a = b` y cambiáis el valor de `b` qué ocurre? Probad definiendo b como una lista y añadiendo un elemento, ¿se ha actualizado la lista también en `a`? Y si `b` es un número y lo incremento en una unidad, ¿también se modifica `a`?"
   ]
  },
  {
   "cell_type": "code",
   "execution_count": 18,
   "id": "1023eda1",
   "metadata": {},
   "outputs": [
    {
     "name": "stdout",
     "output_type": "stream",
     "text": [
      "[1, 2, 3, 4, 5, 6]\n",
      "1\n"
     ]
    }
   ],
   "source": [
    "# escribe aqui tu código\n",
    "a = 1 \n",
    "a = 'hola' \n",
    "a = [1,2] \n",
    "a = (1,4)\n",
    "\n",
    "# igualamos a = b siendo b una lista y modificamos b, ¿qué ocurre con a?\n",
    "b = [1,2,3,4,5]\n",
    "a = b\n",
    "b.append(6)\n",
    "print(a)\n",
    "\n",
    "# y si ahora b es un entero y le sumamos una unidad, ¿qué ocurre con a?\n",
    "b = 1\n",
    "a = b\n",
    "b += 5\n",
    "print(a)"
   ]
  },
  {
   "cell_type": "markdown",
   "id": "8d33b7d8",
   "metadata": {},
   "source": [
    "---\n",
    "\n",
    "## Operadores\n",
    "\n",
    "### Operadores de asignación\n",
    "El operador de asignación es el operador básico mediante el que le damos un valor a una variable. Por ejemplo `a = 1`.\n",
    "\n",
    "### Operadores aritméticos\n",
    "Los operadores aritméticos representan las operaciones aritméticas básicas que pueden realizarse en Python con números. Pueden combinarse y agruparse siguiendo la notación estandar matemática de paréntesis. Los operadores son:\n"
   ]
  },
  {
   "cell_type": "code",
   "execution_count": 12,
   "id": "42ce0c71",
   "metadata": {},
   "outputs": [
    {
     "data": {
      "text/plain": [
       "5"
      ]
     },
     "execution_count": 12,
     "metadata": {},
     "output_type": "execute_result"
    }
   ],
   "source": [
    "# definimos a y b\n",
    "a = 5\n",
    "b = 2\n",
    "\n",
    "a + b  # suma\n",
    "a - b  # resta\n",
    "a * b  # producto \n",
    "a / b  # division\n",
    "a // b # division entera (elimina la parte fraccional)\n",
    "a % b  # modulo\n",
    "a ** b # potencia\n",
    "-a     # negativo de a\n",
    "+a     # positivo de a"
   ]
  },
  {
   "cell_type": "markdown",
   "id": "cc1bf48c",
   "metadata": {},
   "source": [
    "Los operadores aritméticos pueden combinarse con el operador de asignación para obtener sentencias abreviadas. Por ejemplo:"
   ]
  },
  {
   "cell_type": "code",
   "execution_count": 19,
   "id": "8b444641",
   "metadata": {},
   "outputs": [],
   "source": [
    "a += 2 # equivalente -> a = a + 2\n",
    "a -= 2 # equivalente -> a = a - 2\n",
    "# etc"
   ]
  },
  {
   "cell_type": "markdown",
   "id": "1bdd6a86",
   "metadata": {},
   "source": [
    "### Operadores de comparación\n",
    "Estos operadores permiten comparar el valor de distintas variables. \n"
   ]
  },
  {
   "cell_type": "code",
   "execution_count": 14,
   "id": "ff6faecb",
   "metadata": {},
   "outputs": [
    {
     "data": {
      "text/plain": [
       "True"
      ]
     },
     "execution_count": 14,
     "metadata": {},
     "output_type": "execute_result"
    }
   ],
   "source": [
    "a == b\n",
    "a != b\n",
    "a < b\n",
    "a > b\n",
    "a <= b\n",
    "a >= b"
   ]
  },
  {
   "cell_type": "markdown",
   "id": "6814510c",
   "metadata": {},
   "source": [
    "Estos operadores devuelven valores booleanos `True` o `False` e igual que antes, pueden combinarse con operadores aritméticos para crear sentencias abreviadas. Como veréis en la parte del tutorial destinado a la programación orientada a objetos con Python, el operador `==` invoca por detrás al método `__eq__()`."
   ]
  },
  {
   "cell_type": "code",
   "execution_count": 20,
   "id": "b221494a",
   "metadata": {},
   "outputs": [
    {
     "data": {
      "text/plain": [
       "True"
      ]
     },
     "execution_count": 20,
     "metadata": {},
     "output_type": "execute_result"
    }
   ],
   "source": [
    "25 % 2 == 1"
   ]
  },
  {
   "cell_type": "markdown",
   "id": "4171c4fb",
   "metadata": {},
   "source": [
    "### Operadores booleanos\n",
    "Los operadores booleanos incluidos en Python son los ya conocidos `and`, `or` y `not`. Como vemos, Python utiliza casi una sintaxis natural en inglés, por lo que es muy cómodo para escribir sentencias condicionales utilizando múltiples operadores booleanos."
   ]
  },
  {
   "cell_type": "code",
   "execution_count": 16,
   "id": "504e7148",
   "metadata": {},
   "outputs": [
    {
     "data": {
      "text/plain": [
       "True"
      ]
     },
     "execution_count": 16,
     "metadata": {},
     "output_type": "execute_result"
    }
   ],
   "source": [
    "x = 3\n",
    "(x < 4) and (x > 1)"
   ]
  },
  {
   "cell_type": "markdown",
   "id": "8ebf1b54",
   "metadata": {},
   "source": [
    "Para construir un *XOR* a mano, es tan sencillo como utilizar el operador *distinto de*. Así, solo se permite que se cumpla una de las condiciones que indicamos en la sentencia."
   ]
  },
  {
   "cell_type": "code",
   "execution_count": 17,
   "id": "9d103f76",
   "metadata": {},
   "outputs": [
    {
     "data": {
      "text/plain": [
       "False"
      ]
     },
     "execution_count": 17,
     "metadata": {},
     "output_type": "execute_result"
    }
   ],
   "source": [
    "(x > 1) != (x < 10)"
   ]
  },
  {
   "cell_type": "markdown",
   "id": "e66704b1",
   "metadata": {},
   "source": [
    "---\n",
    "\n",
    "### Ejercicio\n",
    "Prueba ahora a definir una variable y realizar algunas sentencias con operadores. Por ejemplo ¿Es el resultado de 25 módulo 2 positivo y menor que 3?"
   ]
  },
  {
   "cell_type": "code",
   "execution_count": 23,
   "id": "361b6eed",
   "metadata": {},
   "outputs": [
    {
     "data": {
      "text/plain": [
       "True"
      ]
     },
     "execution_count": 23,
     "metadata": {},
     "output_type": "execute_result"
    }
   ],
   "source": [
    "# escribe aqui tu codigo\n",
    "x= 25 % 2 \n",
    "(x<3) and (x>0)"
   ]
  },
  {
   "cell_type": "markdown",
   "id": "5b362f00",
   "metadata": {},
   "source": [
    "---\n",
    "\n",
    "### Operadores de identidad y membresía\n",
    "Los operadores de igualdad son `is` e `is not`.\n",
    "Hay que tener en cuenta que el operador de identidad `is` es dintinto del operador de igualdad `==`. \n",
    "Por ejemplo, dos listas con el mismo contenido son *iguales* `==` pero no *idénticas* `is` ya que no hacen referencia al mismo objeto. \n",
    "Es importante tener esto en cuenta para saber cuando usar el operador de igualdad y cuando el de identidad."
   ]
  },
  {
   "cell_type": "code",
   "execution_count": 18,
   "id": "6eeaac3a",
   "metadata": {},
   "outputs": [
    {
     "data": {
      "text/plain": [
       "True"
      ]
     },
     "execution_count": 18,
     "metadata": {},
     "output_type": "execute_result"
    }
   ],
   "source": [
    "# creamos una lista y a la variable b le asignamos la misma lista (idénticas)\n",
    "a = [1,2,3,4]\n",
    "b = a\n",
    "a is b"
   ]
  },
  {
   "cell_type": "code",
   "execution_count": 19,
   "id": "e4707cf2",
   "metadata": {},
   "outputs": [
    {
     "name": "stdout",
     "output_type": "stream",
     "text": [
      "Iguales:  True\n",
      "Identicas:  False\n"
     ]
    }
   ],
   "source": [
    "# creamos dos listas con el mismo contenido pero siendo distintos objetos\n",
    "a = [1,2,3,4]\n",
    "b = [1,2,3,4]\n",
    "print(\"Iguales: \", a == b) \n",
    "print(\"Identicas: \", a is b)"
   ]
  },
  {
   "cell_type": "markdown",
   "id": "7d7c33fa",
   "metadata": {},
   "source": [
    "Los operadores de membresía nos permiten comprobar si un objeto está contenido dentro de otro objeto compuesto. Por ejemplo, la operación más básica sería comprobar si un número está contenido en una lista:"
   ]
  },
  {
   "cell_type": "code",
   "execution_count": 20,
   "id": "4a513697",
   "metadata": {},
   "outputs": [
    {
     "name": "stdout",
     "output_type": "stream",
     "text": [
      "True\n",
      "False\n"
     ]
    }
   ],
   "source": [
    "print(1 in a)\n",
    "print(6 in a)"
   ]
  },
  {
   "cell_type": "markdown",
   "id": "336c10d6",
   "metadata": {},
   "source": [
    "---\n",
    "\n",
    "### Ejercicio\n",
    "Define dos listas y haz algunas pruebas con los operadores de identidad y membresía. Si igualamos las variables `a` y `b` como en el primer fragmento de código, y modificamos la lista `a`, ¿seguirán siendo iguales a ojos del operador `is`?¿y del operador `==`? Y si teniendo `a` y `b` como listas iguales pero no idénticas y modificamos, ¿qué ocurre? ¿Y si modificamos una de ellas?"
   ]
  },
  {
   "cell_type": "code",
   "execution_count": 26,
   "id": "f28645ae",
   "metadata": {},
   "outputs": [
    {
     "name": "stdout",
     "output_type": "stream",
     "text": [
      "True\n",
      "True\n"
     ]
    }
   ],
   "source": [
    "# escribe aqui tu codigo\n",
    "a = [1,2,5]\n",
    "b = [1,2,5]\n",
    "a=b\n",
    "print(a==b)\n",
    "print(a is b)"
   ]
  },
  {
   "cell_type": "markdown",
   "id": "61681565",
   "metadata": {},
   "source": [
    "---\n",
    "\n",
    "# Tipos de datos en Python\n",
    "## Tipos de datos simples\n",
    "### Numéricos\n",
    "Existen distintos tipos de datos numéricos en Python:"
   ]
  },
  {
   "cell_type": "code",
   "execution_count": 21,
   "id": "40b7f33d",
   "metadata": {},
   "outputs": [],
   "source": [
    "x = 1 # enteros\n",
    "x = 1.0 # de punto flotante\n",
    "x = 1 + 2j # numeros complejos"
   ]
  },
  {
   "cell_type": "markdown",
   "id": "ac6f7f14",
   "metadata": {},
   "source": [
    "Una ventaja de Python sobre otros lenguajes, es que los enteros no son de precisión fija (no tienen un tamaño de memoria máximo), por lo que en Python pueden representarse números extremadamente grandes, que en otros lenguajes darían lugar a un *overflow* de memoria."
   ]
  },
  {
   "cell_type": "markdown",
   "id": "3538bf9e",
   "metadata": {},
   "source": [
    "### String\n",
    "Los strings en Python se pueden crear con comillas dobles `\"\"` o comillas simples `''` y existen múltiples [métodos](https://www.w3schools.com/python/python_ref_string.asp) y [operaciones](https://www.python-ds.com/python-3-string-operators) que se pueden realizar con strings. El [formateo de strings](https://realpython.com/python-string-formatting/) puede hacerse con la notación clásica de `%`, utilizando comas  `,` para separar literales (strings) y sentencias a evaluar. Pero en las versiones más recientes de Python se ha incorporado el formato de *f-strings* en el que mediante el uso de corchetes `{}` puede incorporarse en el interior de un string una sentencia a evaluar, permitiendo incoroporar operaciones, o valores de variables u objetos de una forma más sencilla. Si queréis aprender más sobre \n"
   ]
  },
  {
   "cell_type": "code",
   "execution_count": 22,
   "id": "f9968b00",
   "metadata": {},
   "outputs": [
    {
     "name": "stdout",
     "output_type": "stream",
     "text": [
      "Sender says: Hi ...\n",
      "Receiver says \"How are you?...\"\n"
     ]
    }
   ],
   "source": [
    "send = \"Hi\"\n",
    "receive = 'how are you?'\n",
    "receive.capitalize()\n",
    "print(f\"Sender says:\", send, \"...\")\n",
    "print(f\"Receiver says \\\"{receive.capitalize()}...\\\"\")"
   ]
  },
  {
   "cell_type": "markdown",
   "id": "65602c33",
   "metadata": {},
   "source": [
    "---\n",
    "\n",
    "### Ejercicio\n",
    "Definid dos strings como acabamos de hacer y probad algunos de los métodos y operaciones que se pueden realizar sobre strings en Python (haciendo click sobre los links iréis a listas donde se encuentran explicados y documentados estos métodos y operaciones). Si queréis aprender y probar algo más sobre el formateo de strings, podéis hacerlo también en la web enlazada."
   ]
  },
  {
   "cell_type": "code",
   "execution_count": 27,
   "id": "aefc6f63",
   "metadata": {},
   "outputs": [
    {
     "name": "stdout",
     "output_type": "stream",
     "text": [
      "hi my name is Juan\n"
     ]
    }
   ],
   "source": [
    "# escribe aqui tu codigo\n",
    "hola = 'hi'\n",
    "print(hola,'my name is Juan')"
   ]
  },
  {
   "cell_type": "markdown",
   "id": "4f2990bf",
   "metadata": {},
   "source": [
    "---\n",
    "\n",
    "### Booleano \n",
    "El tipo de dato booleano funciona como en cualquier otro lenguaje de programación, posee los valores `True` y `False`.\n",
    "\n",
    "### None\n",
    "Sería el tipo de dato equivalente a *null*. Por defecto, las funciones en python devuelve en valor `None`."
   ]
  },
  {
   "cell_type": "markdown",
   "id": "a3fc8ab6",
   "metadata": {},
   "source": [
    "## Estructuras de datos\n",
    "### Lista\n",
    "Concepto clásico de lista, ordenada y mutable (pueden añadirse, eliminarse y modificarse elementos). Se accede a sus posiciones con la notación de corchetes `[]` y con pueden realizarse con ella múltiples operaciones. [Aquí](https://docs.python.org/3/tutorial/datastructures.html) podéis ver los métodos disponibles en Python para las listas.\n"
   ]
  },
  {
   "cell_type": "code",
   "execution_count": 28,
   "id": "aed52b0c",
   "metadata": {},
   "outputs": [
    {
     "name": "stdout",
     "output_type": "stream",
     "text": [
      "bender\n",
      "3\n"
     ]
    }
   ],
   "source": [
    "# definimos una lista\n",
    "characters = [\"fry\", \"leela\", \"bender\", \"zoidberg\", \"prof. farnsworth\"]\n",
    "\n",
    "# algunas de las operaciones posibles\n",
    "print(characters[2])\n",
    "print(characters.index(\"zoidberg\"))\n",
    "# ..."
   ]
  },
  {
   "cell_type": "markdown",
   "id": "c7548822",
   "metadata": {},
   "source": [
    "### Tupla\n",
    "Similares a las listas, pero en este caso son inmutables, es decir, una vez definida una tupla, sus elementos no pueden ser modificados. Aunque suene extraño, las tuplas son muy útiles por ejemplo cuando una función devuelve más de un objeto o variable como resultado. Se definen utilizando paréntesis `()`.\n"
   ]
  },
  {
   "cell_type": "code",
   "execution_count": 24,
   "id": "22cfd76d",
   "metadata": {},
   "outputs": [
    {
     "name": "stdout",
     "output_type": "stream",
     "text": [
      "Numerador: 1\n",
      "Denominador: 4\n",
      "Numerador: 1\n",
      "Denominador: 4\n"
     ]
    }
   ],
   "source": [
    "# definicion de una tupla\n",
    "tupla = (\"a\",\"b\",\"c\")\n",
    "\n",
    "# uso de una tupla como resultado de una funcion\n",
    "x = 0.25\n",
    "(numerator, denominator) = x.as_integer_ratio()\n",
    "print(f\"Numerador: {numerator}\")\n",
    "print(f\"Denominador: {denominator}\")\n",
    "\n",
    "# puede accederse a un elemento de una tupla por su posicion igual que en una lista\n",
    "tupla = x.as_integer_ratio()\n",
    "print(f\"Numerador: {tupla[0]}\")\n",
    "print(f\"Denominador: {tupla[1]}\")"
   ]
  },
  {
   "cell_type": "markdown",
   "id": "47c3eacd",
   "metadata": {},
   "source": [
    "## Diccionario\n",
    "Concepto clásico de diccionario en el que se *mapea* una clave a un valor. Se definen mediante `{}` llaves y se accede a sus elementos con la misma notación que a listas y tuplas, utilizando corchetes `[]`.\n",
    "Es importante tener en cuenta que **no puede accederse a los elementos utilizando el índice** de la posición en la que son insertados (el orden en el que se ponen los elementos cuando se define el diccionario) ya que en realidad, cuando se inserta un elemento en el diccionario se hace mediante *hashing*, así que es importante recordar que los diccionarios no matienen ningún concepto de orden."
   ]
  },
  {
   "cell_type": "code",
   "execution_count": 25,
   "id": "22c91174",
   "metadata": {},
   "outputs": [
    {
     "data": {
      "text/plain": [
       "1"
      ]
     },
     "execution_count": 25,
     "metadata": {},
     "output_type": "execute_result"
    }
   ],
   "source": [
    "dictionarie = {\"one\":1, \"two\":2, \"three\":3}\n",
    "dictionarie[\"one\"]"
   ]
  },
  {
   "cell_type": "markdown",
   "id": "300afbbd",
   "metadata": {},
   "source": [
    "### Set\n",
    "Los sets definen conjuntos desordenados de *elementos únicos*, es decir, respetan la definición de set clásica de las matemáticas. Útiles precisamente para cuando desean usarse este tipo de estructuras, por ejemplo pare realizar operaciones entre conjuntos (unión, conjunción, disyunción, etc) para resolver algún tipo de problema. Se definen mediante llaves `{}`."
   ]
  },
  {
   "cell_type": "code",
   "execution_count": 26,
   "id": "46900dad",
   "metadata": {},
   "outputs": [
    {
     "name": "stdout",
     "output_type": "stream",
     "text": [
      "{1, 2, 3, 4, 5, 6}\n",
      "set()\n"
     ]
    }
   ],
   "source": [
    "even = {2,4,6}\n",
    "odd = {1,3,5}\n",
    "\n",
    "# disyuncion\n",
    "print(even | odd)\n",
    "\n",
    "# conjuncion (devuleve set vacio)\n",
    "print(even & odd)"
   ]
  },
  {
   "cell_type": "markdown",
   "id": "dfcf85e1",
   "metadata": {},
   "source": [
    "### Estructuras especializadas \n",
    "En la [documentación de Python](https://docs.python.org/3/library/collections.html), podéis ver otros tipos de datos especializados llamados `collections`, diseñados especialmente para resolver problems concretos. "
   ]
  },
  {
   "cell_type": "markdown",
   "id": "e1c4e454",
   "metadata": {},
   "source": [
    "---\n",
    "\n",
    "### Ejercicio\n",
    "Ahora que has visto los distintos tipos de estructuras de datos. Define algunas instancias de cada tipo y haz pruebas con los métodos que Python pone disponibles para ellas. Busca en la documentación de Python y piensa para qué crees que pueden ser útiles alguna de las estructuras de datos especiales definidas sobre `collections`."
   ]
  },
  {
   "cell_type": "code",
   "execution_count": null,
   "id": "a57d2409",
   "metadata": {},
   "outputs": [
    {
     "name": "stdout",
     "output_type": "stream",
     "text": [
      "Ferrari\n",
      "3\n",
      "Numerador: 20\n",
      "Denominador: 1\n"
     ]
    }
   ],
   "source": [
    "#LISTA \n",
    "# definimos una lista\n",
    "characters = [\"Ferrari\", \"mercedes\", \"Audi\", \"BMW\", \"Fiat\"]\n",
    "\n",
    "# algunas de las operaciones posibles\n",
    "print(characters[0])\n",
    "print(characters.index(\"BMW\"))\n",
    "\n",
    "#TUPLA\n",
    "# uso de una tupla como resultado de una funcion\n",
    "x = 20\n",
    "(numerator, denominator) = x.as_integer_ratio()\n",
    "print(f\"Numerador: {numerator}\")\n",
    "print(f\"Denominador: {denominator}\")\n",
    "\n",
    "#DICCIONARIO\n",
    "dictionarie = {\"perro\":1, \"gato\":2, \"elefante\":3, \"cocodrilo\":4}\n",
    "dictionarie[\"cocodrilo\"]\n",
    "\n"
   ]
  },
  {
   "cell_type": "markdown",
   "id": "9e024902",
   "metadata": {},
   "source": [
    "---\n",
    "\n",
    "## Control de flujo\n",
    "El control de flujo es uno de los elementos esenciales en cualquier lenguaje de programación. Es lo que nos permite definir comportamiento en un programa.\n",
    "\n",
    "### Condicionales\n",
    "Los condicionales `if-else` funcionan como en cualquier otro lenguaje, simplemente siguen la notación de `:` de indentación de python y utilizan los operadores de comparación y booleanos antes presentados.\n"
   ]
  },
  {
   "cell_type": "code",
   "execution_count": 27,
   "id": "e2ee9b45",
   "metadata": {},
   "outputs": [
    {
     "name": "stdout",
     "output_type": "stream",
     "text": [
      "negativo\n"
     ]
    }
   ],
   "source": [
    "x = -1\n",
    "if x == 0:\n",
    "    print(\"cero\")\n",
    "elif x < 0:\n",
    "    print(\"negativo\")\n",
    "elif x > 0:\n",
    "    print(\"positivo\")\n",
    "else:\n",
    "    print(\"desconocido\")"
   ]
  },
  {
   "cell_type": "markdown",
   "id": "1211cd53",
   "metadata": {},
   "source": [
    "### Bucles\n",
    "**For**\n",
    "El bucle `for` es de los más sencillos y utilizados en Python. La sintáxis básica es `for N in iterator`. Donde N es la variable que se utilizará en las iteraciones, e iterator es cualquier objeto iterable sobre el que se realizarán las iteraciones.\n",
    "Cuando se utiliza `range` como elemento iterable, pueden realizarse múltiples variaciones, para que por ejemplo, se itere de dos en dos (sintaxis similar al slicing de listas), por ej: `range(0,10,2)` define un rango de 0 a 10 con paso 2."
   ]
  },
  {
   "cell_type": "code",
   "execution_count": 28,
   "id": "2ee39168",
   "metadata": {},
   "outputs": [
    {
     "name": "stdout",
     "output_type": "stream",
     "text": [
      "1 2 3 4 5 6 7 8 9 "
     ]
    }
   ],
   "source": [
    "# bucle for que itera sobre una lista\n",
    "for N in [1,2,3,4]:\n",
    "    print(N, end=' ') # con end=' ' le indicamos que utilice un espacio como caracter de EOL\n",
    "    \n",
    "# bucle for que itera sobre un range\n",
    "for N in range(5,10):\n",
    "     print(N, end=' ')"
   ]
  },
  {
   "cell_type": "markdown",
   "id": "09ab4dc2",
   "metadata": {},
   "source": [
    "---\n",
    "\n",
    "### Ejercicio\n",
    "Define un bucle que itere de -10 a 10 e imprima un número si es positivo y par."
   ]
  },
  {
   "cell_type": "code",
   "execution_count": 34,
   "id": "f53637cc",
   "metadata": {},
   "outputs": [
    {
     "name": "stdout",
     "output_type": "stream",
     "text": [
      "2 4 6 8 "
     ]
    }
   ],
   "source": [
    "# escribe aqui tu codigo\n",
    "for N in range(-10,10):\n",
    "    if N > 0 and N % 2 == 0:\n",
    "        print(N, end=' ')"
   ]
  },
  {
   "cell_type": "markdown",
   "id": "6548a1b2",
   "metadata": {},
   "source": [
    "\n",
    "**NOTA** *No os preocupéis por el argumento `end=''` de la función `print()`, veremos [más adelante](#kwargs) lo que significa.*\n",
    "\n",
    "---\n",
    "\n",
    "### While\n",
    "Idéntico a otros lenguajes, itera hasta que se cumple una determinada condición establecida por el usuario.\n"
   ]
  },
  {
   "cell_type": "code",
   "execution_count": 37,
   "id": "9338eb97",
   "metadata": {},
   "outputs": [
    {
     "name": "stdout",
     "output_type": "stream",
     "text": [
      "2 4 6 "
     ]
    }
   ],
   "source": [
    "i = 2\n",
    "while i < 8:\n",
    "    print(i, end=\" \")\n",
    "    i += 2"
   ]
  },
  {
   "cell_type": "markdown",
   "id": "27f4434b",
   "metadata": {},
   "source": [
    "### Break y Continue\n",
    "Con las sentencias `break` y `continue` podemos ajustar el comportamiento de nuestro bucle. La sentencia `break` sale completamente del buble y la sentencia `continue` salta a la siguiente iteración. Estas sentencias suelen usarse acompañadas de sentencias condicionales. Por ejemplo, podemos hacer un bucle que imprima solo números impares:\n"
   ]
  },
  {
   "cell_type": "code",
   "execution_count": 38,
   "id": "f9abab4a",
   "metadata": {},
   "outputs": [
    {
     "name": "stdout",
     "output_type": "stream",
     "text": [
      "1 3 5 7 9 "
     ]
    }
   ],
   "source": [
    "for n in range(10):\n",
    "    # comprobar si el numero es impar\n",
    "    if n % 2 == 0:\n",
    "        continue\n",
    "    print(n, end=' ')"
   ]
  },
  {
   "cell_type": "markdown",
   "id": "68763749",
   "metadata": {},
   "source": [
    "## Funciones\n",
    "Las funciones son elementos esenciales cuando se está programando en cualquier lenguaje ya que permiten reutlizar fragmentos de código.\n",
    "\n",
    "Por ejemplo, partiendo del bucle que acabamos de definir, podemos crear una función que imprima los número primos que hay en el rango [0,*r*] siendo *r* el argumento de la función."
   ]
  },
  {
   "cell_type": "code",
   "execution_count": 31,
   "id": "e9469ae5",
   "metadata": {},
   "outputs": [
    {
     "name": "stdout",
     "output_type": "stream",
     "text": [
      "1 3 5 7 9 11 13 15 17 19 21 23 25 27 29 31 33 35 37 39 41 43 45 47 49 51 53 55 57 59 61 63 65 67 69 71 73 75 77 79 81 83 85 87 89 91 93 95 97 99 "
     ]
    }
   ],
   "source": [
    "def odds(r):\n",
    "    for n in range(r):\n",
    "        # comprobar si el numero es impar\n",
    "        if n % 2 == 0:\n",
    "            continue\n",
    "        print(n, end=' ')\n",
    "        \n",
    "odds(100)"
   ]
  },
  {
   "cell_type": "markdown",
   "id": "8bec5dc0",
   "metadata": {},
   "source": [
    "Podemos definir valores por defecto para los argumentos simplemente dándoles un valor en la definición de la función. Esto es útil cuando una función va a ser invocada la *mayoría* de veces con el mismo valor para un determinado argumento.\n",
    "Para la función de números pares, podemos darle por defecto un valor de la siguiente forma:"
   ]
  },
  {
   "cell_type": "code",
   "execution_count": 32,
   "id": "d5d4391a",
   "metadata": {},
   "outputs": [
    {
     "name": "stdout",
     "output_type": "stream",
     "text": [
      "1 3 5 7 9 "
     ]
    }
   ],
   "source": [
    "def odds(r=10):\n",
    "    for n in range(r):\n",
    "        # comprobar si el numero es impar\n",
    "        if n % 2 == 0:\n",
    "            continue\n",
    "        print(n, end=' ')\n",
    "        \n",
    "odds()"
   ]
  },
  {
   "cell_type": "markdown",
   "id": "b84ce44f",
   "metadata": {},
   "source": [
    "Como véis, ahora podemos invocar a la función sin indicar ningún argumento, porque como el **único argumento definido** tiene asignado un valor por defecto, si llamamos a la función sin indicarle este argumento, tomará el valor por defecto y se ejecutará sin problema."
   ]
  },
  {
   "cell_type": "markdown",
   "id": "ea62eaa7",
   "metadata": {},
   "source": [
    "<a name=\"kwargs\"></a>\n",
    "En Python, una función tiene *arguments* `args`y *keyword arguments* `kwargs`. \n",
    "- Los primeros, son los argumentos corrientes, en los que a la función simplemente se le pasa el argumento deseado como parámetro. \n",
    "- Los *keyword arguments* se especifican utilizando su nombre, por ejemplo, en la función `print(n, end=' ')` que acabamos de ver, el argumento `end` es un `kwarg` que indica que caracter utilizar como `EOL`. Los `kawrgs` siempre van al final y debe indicarse su nombre cuando se le pasa a la función.\n",
    "\n",
    "Además de esto, podemos utilizar una forma especial para los argumentos `*args` y los *keyword arguments* `**kwargs` **cuando no sepamos cuantos argumentos va a recibir una función**. Utilizando esta forma especial, la función tomará todos los argumentos que se le pasen. Los `*args` se reciben como una tupla y los `**kwargs` como un diccionario. Vamos a ver un ejemplo:\n"
   ]
  },
  {
   "cell_type": "code",
   "execution_count": 33,
   "id": "4e213f32",
   "metadata": {},
   "outputs": [
    {
     "name": "stdout",
     "output_type": "stream",
     "text": [
      "<class 'tuple'>\n",
      "<class 'dict'>\n",
      "args:  (1, 2, 3)\n",
      "kwargs: {'a': 4, 'b': 5}\n"
     ]
    }
   ],
   "source": [
    "# funcion con un numero indefinido de argumentos y keywords\n",
    "def catch_all(*args, **kwargs):\n",
    "    # comprobamos el tipo de dato de args y kwargs\n",
    "    print(type(args))\n",
    "    print(type(kwargs))\n",
    "    \n",
    "    # imprimimos todos los parametros\n",
    "    print(\"args: \", args)\n",
    "    print(\"kwargs:\", kwargs)\n",
    "    \n",
    "catch_all(1,2,3,a=4, b=5)"
   ]
  },
  {
   "cell_type": "markdown",
   "id": "0dc2c20a",
   "metadata": {},
   "source": [
    "\n",
    "Si queremos, podemos añadirle a nuestra función `odds(r)` un *kwarg* que le pasaremos a la función `print`, así al invocar a la función `odds(r)` podemos indicarle el caracter de EOL que queremos que utilice cuando imprima:\n"
   ]
  },
  {
   "cell_type": "code",
   "execution_count": 34,
   "id": "3d696436",
   "metadata": {},
   "outputs": [
    {
     "name": "stdout",
     "output_type": "stream",
     "text": [
      "1, 3, 5, 7, 9, 11, 13, 15, 17, 19, 21, 23, 25, 27, 29, 31, 33, 35, 37, 39, 41, 43, 45, 47, 49, 51, 53, 55, 57, 59, 61, 63, 65, 67, 69, 71, 73, 75, 77, 79, 81, 83, 85, 87, 89, 91, 93, 95, 97, 99, "
     ]
    }
   ],
   "source": [
    "def odds(r, **kwargs):\n",
    "    for n in range(r):\n",
    "        # comprobar si el numero es impar\n",
    "        if n % 2 == 0:\n",
    "            continue\n",
    "        print(n, end=kwargs[\"end\"])\n",
    "        \n",
    "odds(100, end=\", \")"
   ]
  },
  {
   "cell_type": "markdown",
   "id": "801fe61d",
   "metadata": {},
   "source": [
    "---\n",
    "\n",
    "### Ejercicio\n",
    "De forma similar a como hemos hecho ahora, define una función que imprima una serie de números pares o impares (en función de un argumento que veremos a continuación). La función debe recibir como parámetro dos números: cota inferior y cota superior de la serie a imprimir. Y como keywords, el string de EOL de la función print y un keyword que determine si se desean imprimir números pares o impares."
   ]
  },
  {
   "cell_type": "code",
   "execution_count": null,
   "id": "7d558c57",
   "metadata": {},
   "outputs": [],
   "source": [
    "# escribe aqui tu codigo\n",
    "def numbers(inf, sup, **kwargs):\n",
    "    \n",
    "for n in range(inf):\n",
    "    if n % 2 == 0:\n",
    "        continue\n",
    "    print(n, end=kwargs[\"end\"])\n",
    "numbers(100,200, end=\", \")\n",
    "    \n",
    "    "
   ]
  },
  {
   "cell_type": "markdown",
   "id": "1bdd8ae0",
   "metadata": {},
   "source": [
    "---\n",
    "\n",
    "### Funciones lambda\n",
    "Si habéis utilizado las versiones más recientes de Java o Kotlin, quizá ya estéis familiarizados con las funciones lambda. Una función lambda evalúa una expresión para un argumento dado. Se da a la función un valor (argumento) y luego se proporciona la operación (expresión) a realizar. La palabra clave ``lambda`` debe ir en primer lugar. Los dos puntos (:) separan el argumento y la expresión. Por ejemplo:"
   ]
  },
  {
   "cell_type": "code",
   "execution_count": 35,
   "id": "79413864",
   "metadata": {},
   "outputs": [
    {
     "data": {
      "text/plain": [
       "3"
      ]
     },
     "execution_count": 35,
     "metadata": {},
     "output_type": "execute_result"
    }
   ],
   "source": [
    "my_func = lambda a, b : a+b\n",
    "my_func(1,2)"
   ]
  },
  {
   "cell_type": "markdown",
   "id": "5f63eeea",
   "metadata": {},
   "source": [
    "Con este ejemplo, no le veréis demasiada utilidad a las funciones lambda, ya que la función que acabamos de definir, podríamos haberlo hecho perfectamente con la notación normal de `def`.\n",
    "En cambio, las funciones lambda son muy útiles en determinadas ocasiones, en las que **pequeñas funciones anónimas son idóneas**. \n",
    "\n",
    "Por ejemplo, para filtrar una lista y quedarnos solo con determinados valores podemos utilizar la función `filter`. Esta función recibe como parámetros un función lambda cuya expresión determina como filtrar una lista, y la lista que se desea filtrar. Si tenemos una lista con números [0,10] y deseamos quedarnos solo con los números pares, podemos utiliar la siguiente función lambda.\n",
    "\n",
    "Si queréis ver más ejemplos sobre funciones lambda, en [este post](https://towardsdatascience.com/lambda-functions-with-practical-examples-in-python-45934f3653a8) del blog *Towards Data Science* tenéis una explicación algo más detallada."
   ]
  },
  {
   "cell_type": "code",
   "execution_count": 36,
   "id": "a309effb",
   "metadata": {},
   "outputs": [
    {
     "data": {
      "text/plain": [
       "[0, 2, 4, 6, 8]"
      ]
     },
     "execution_count": 36,
     "metadata": {},
     "output_type": "execute_result"
    }
   ],
   "source": [
    "lista = list(range(10))\n",
    "filter(lambda x: x%2==0, lista)\n",
    "\n",
    "list(filter(lambda x: x%2==0, lista))\n"
   ]
  },
  {
   "cell_type": "markdown",
   "id": "90bdf442",
   "metadata": {},
   "source": [
    "# Importando módulos y paquetes\n",
    "La forma básica de importar módulos es utilizando su nombre original y la notación de `.` para acceder a sus contenidos. O importar el paquete dándole un alias (y acceder a sus contenidos con la notación de `.`) para acceder más facilmente a sus contenidos. Por ejemplo:"
   ]
  },
  {
   "cell_type": "code",
   "execution_count": 37,
   "id": "d5a34e4e",
   "metadata": {},
   "outputs": [],
   "source": [
    "# importacion normal\n",
    "import math\n",
    "\n",
    "# importacion con alias\n",
    "import numpy as np"
   ]
  },
  {
   "cell_type": "markdown",
   "id": "a10a556f",
   "metadata": {},
   "source": [
    "Si no queremos cargar un paquete entero porque solo necesitamos una (o unas pocas) funcionalidades, podemos hacerlo con la sintaxis `from ___ import___` como podemos ver a continuación:\n"
   ]
  },
  {
   "cell_type": "code",
   "execution_count": 38,
   "id": "cb30c886",
   "metadata": {},
   "outputs": [],
   "source": [
    "from math import sin,cos"
   ]
  },
  {
   "cell_type": "markdown",
   "id": "8394c94b",
   "metadata": {},
   "source": [
    "También se puede importar paquetes, clases, o funciones que hayáis desarrollado vosotros mismos y tengáis en ficheros python **en el directorio en el que estáis trabajando**. Para importar scripts o funciones concretas podéis usar importación absoluta. Podéis aprender un poco más sobre ello [aquí](https://realpython.com/absolute-vs-relative-python-imports/)."
   ]
  },
  {
   "cell_type": "markdown",
   "id": "e3822ff0",
   "metadata": {},
   "source": [
    "# Definiendo un main\n",
    "\n",
    "Muchos lenguajes de programación tienen una función especial que se ejecuta automáticamente cuando un sistema operativo comienza a ejecutar un programa. Esta función suele llamarse main() y debe tener un tipo de retorno y argumentos específicos según el estándar del lenguaje. En cambio, **el intérprete de Python ejecuta los scripts empezando por el principio** del archivo, y no hay ninguna función específica que Python ejecute automáticamente.\n",
    "\n",
    "En cambio, puede utilizarse un \"truco\" para definir una función `main()` en Python que se ejecute cuando se lance el script. Esto se hace utilizando la variable especial `__name__`. El valor de esta variable depende de como se esté ejecutando un script de Python, cuando llamamos a un fichero (probablemente un script) de Python desde la consola, el valor de esta variable será `__main__` por lo que con el siguiente condicional, podemos definir qué función queremos que se ejecute cuando llamemos a nuestro fichero Python, comportándose esta efectivamente como una función `main()`.\n"
   ]
  },
  {
   "cell_type": "code",
   "execution_count": 39,
   "id": "0e91e995",
   "metadata": {},
   "outputs": [
    {
     "name": "stdout",
     "output_type": "stream",
     "text": [
      "Hello World!\n"
     ]
    }
   ],
   "source": [
    "# definimos la funcion que queremos que sea el main\n",
    "def main():\n",
    "    print(\"Hello World!\")\n",
    "\n",
    "# definimos un condicional con la variable __name__\n",
    "if __name__ == \"__main__\":\n",
    "    main()"
   ]
  },
  {
   "cell_type": "markdown",
   "id": "286e6589",
   "metadata": {},
   "source": [
    "Podéis ver más información sobre la variable especial `__name__` y jugar un poco con ella [aquí](https://realpython.com/python-main-function/).\n",
    "\n",
    "Con esto se cubren los aspectos básicos del lenguaje Python. En el **Campus Virtual** encontraréis otro tutorial enfocado a la Programación Orientada a Objetos con Python. Ahora que conocéis los elementos esenciales de sintáxis y semántica de Python estáis listos para aprender y aplicar estos conceptos en el paradigma de orientación a objetos con el que ya estáis familiarizados."
   ]
  }
 ],
 "metadata": {
  "kernelspec": {
   "display_name": ".venv",
   "language": "python",
   "name": "python3"
  },
  "language_info": {
   "codemirror_mode": {
    "name": "ipython",
    "version": 3
   },
   "file_extension": ".py",
   "mimetype": "text/x-python",
   "name": "python",
   "nbconvert_exporter": "python",
   "pygments_lexer": "ipython3",
   "version": "3.11.5"
  }
 },
 "nbformat": 4,
 "nbformat_minor": 5
}

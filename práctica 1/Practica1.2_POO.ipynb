{
 "cells": [
  {
   "cell_type": "markdown",
   "id": "9931dd6b",
   "metadata": {},
   "source": [
    "# Python Orientado a Objetos\n",
    "\n",
    "Como ya habréis estudiado en primero y segundo, la Orientación a Objetos es un paradigma de programación en el que un programa se estructura en torno a clases y objetos. Estas clases definen una serie de propiedades o atributos que las instancias (objetos particulares de estas clases) tendrán, así como una serie de funciones o métodos, que los objetos pertenecientes a una clase pueden realizar.\n",
    "\n",
    "Además, este paradigma permite la utilización de diferentes patrones de arquitectura que fomentan las buenas prácticas y la utilización de estructuras funciones de manera estandarizada que permitan entender y reutilizar mejor el código.\n",
    "\n",
    "Suficiente resumen. En Python, esto no es diferente, ya que igual que lenguajes como Java, Python está orientado a objetos, por lo que podemos definir clases, que podremos instanciar y con las que podremos realizar patrones de herencia etc.\n",
    "\n",
    "El objetivo de este Notebook es que os familiaricéis con la sintáxis básica de la orientación a objetos en Python y que hagáis unos pequeños ejercicios para comprobar con vuestras propias manos lo sencillo que es. Así que como toda la teoría de POO ya os la sabéis, podemos pasar directamente a lo divertido, ver como se define una clase, sus propiedades y sus métodos.\n",
    "\n",
    "## Definiendo una clase\n",
    "\n",
    "La definición de una clase en Python es muy sencila, partiendo de la sintaxis básica que hemos visto en el primer Notebook, utilizaremos la notación de dos puntos `:` y la indentación, acompañando a la keyword `class`. \n",
    "\n",
    "Por ejemplo, la clase `Worker` se define como:"
   ]
  },
  {
   "cell_type": "code",
   "execution_count": 1,
   "id": "65eb1d76",
   "metadata": {},
   "outputs": [],
   "source": [
    "class Worker:\n",
    "    pass"
   ]
  },
  {
   "cell_type": "markdown",
   "id": "acf301d0",
   "metadata": {},
   "source": [
    "Con la keyword `pass` le indicamos a Python que en esa línea, en un futuro, habrá código funcional, pero que está pendiente de implementar, por lo que mientras tanto, ignore ese bloque de código. De este modo, evitamos erroes de compilación y ejecución.\n",
    "\n",
    "\n",
    "\n",
    "### Inicialización y atributos\n",
    "Una vez definida la clase, es necesario dotarla de un método de inicialización. Este método `__init__()` sirve para inicializar una instancia de la clase en cuestión y darle valor a sus atributos. \n",
    "\n",
    "\n",
    "**NOTA**\n",
    "*Los métodos de python que van precedidos y seguidos de una doble barra baja `__` como `__init__()` son **métodos mágicos** o **dunder methods**, veremos [más adelante](#metodos-especiales).*\n"
   ]
  },
  {
   "cell_type": "code",
   "execution_count": 2,
   "id": "47690080",
   "metadata": {},
   "outputs": [],
   "source": [
    "class Worker:\n",
    "    def __init__(self, name, age):\n",
    "        self.name = name\n",
    "        self.age = age"
   ]
  },
  {
   "cell_type": "markdown",
   "id": "2cfc08d9",
   "metadata": {},
   "source": [
    "Como vemos, esta función `__init__()` recibe tres parámetros. Una peculiriaridad de Python, es que cuando se instancia una clase, es necesario pasar como argumento al método de inicialización la instancia en cuestión utilizando la keyword `self`. Esto se hace de manera automática cuando se crea la instancia, así que aunque se utilice `self` como argumento para la función de inicialización no es necesario escribirla cuando creamos la instancia.\n",
    "\n",
    "En el cuerpo de la función `__init__()` hay dos sentencias de asignación:\n",
    "* `self.name = name`: crea el atributo `name` de la instancia `self` y le asigna el valor del argumento `name`.\n",
    "* `self.age = age`: crea el argumento `age` de la instancia `self` y le asigna el valor del argumento `age`.\n",
    "\n",
    "Estos atributos, son **atributos de instancia** ya que para cada instancia de la clase creada, es necesario darles un valor pasándoselo a la función `__init__()` como argumento. Pero también podemos definir **atributos de clase**, estos se definen fuera del método `__init__()`, inmediatamente después de la definición de la clase. Todas las instancias de esta clase, tendrán como atributo de clase, el valor que nosotros le demos al definir la clase."
   ]
  },
  {
   "cell_type": "code",
   "execution_count": 3,
   "id": "e50383c9",
   "metadata": {},
   "outputs": [],
   "source": [
    "class Worker:\n",
    "    \n",
    "    # atributo de clase\n",
    "    workplace = 'Planet Express'\n",
    "    \n",
    "    def __init__(self, name, age):\n",
    "        \n",
    "        # atributos de instancia\n",
    "        self.name = name\n",
    "        self.age = age"
   ]
  },
  {
   "cell_type": "markdown",
   "id": "74bd152c",
   "metadata": {},
   "source": [
    "A continuación, creamos una instancia de la clase `Worker`."
   ]
  },
  {
   "cell_type": "code",
   "execution_count": 4,
   "id": "605e9ca6",
   "metadata": {},
   "outputs": [],
   "source": [
    "fry = Worker(\"Fry\", 35)"
   ]
  },
  {
   "cell_type": "markdown",
   "id": "8da4b5f2",
   "metadata": {},
   "source": [
    "Utlizando la notación de punto `.` podemos acceder a los atributos de la instancia `Fry`. Tanto a sus atributos de instancia `name` y `age` como al atributo de clase `workplace`."
   ]
  },
  {
   "cell_type": "code",
   "execution_count": 5,
   "id": "d1c1fb8d",
   "metadata": {},
   "outputs": [
    {
     "data": {
      "text/plain": [
       "'Fry'"
      ]
     },
     "execution_count": 5,
     "metadata": {},
     "output_type": "execute_result"
    }
   ],
   "source": [
    "fry.name"
   ]
  },
  {
   "cell_type": "code",
   "execution_count": 6,
   "id": "aab7d78c",
   "metadata": {},
   "outputs": [
    {
     "data": {
      "text/plain": [
       "35"
      ]
     },
     "execution_count": 6,
     "metadata": {},
     "output_type": "execute_result"
    }
   ],
   "source": [
    "fry.age"
   ]
  },
  {
   "cell_type": "code",
   "execution_count": 7,
   "id": "36146694",
   "metadata": {},
   "outputs": [
    {
     "data": {
      "text/plain": [
       "'Planet Express'"
      ]
     },
     "execution_count": 7,
     "metadata": {},
     "output_type": "execute_result"
    }
   ],
   "source": [
    "fry.workplace"
   ]
  },
  {
   "cell_type": "markdown",
   "id": "e2fdc25e",
   "metadata": {},
   "source": [
    "Es importante tener en cuenta, que los atributos de clase, aunque vengan predeterminados por la clase a la que pertenece una instancia, no son inmutables. Por ejemplo, en el episodio 105 de Futurama, Fry deja *Planet Express* y se une al cuerpo de policía de Nueva Nueva York creyendo que se sentirá más realizado, por lo que deberíamos actualizar el atributo `workplace` de la instancia `fry` de la siguiente forma:"
   ]
  },
  {
   "cell_type": "code",
   "execution_count": 8,
   "id": "5bd5f29b",
   "metadata": {
    "scrolled": true
   },
   "outputs": [
    {
     "data": {
      "text/plain": [
       "'NNYPD'"
      ]
     },
     "execution_count": 8,
     "metadata": {},
     "output_type": "execute_result"
    }
   ],
   "source": [
    "fry.workplace = \"NNYPD\"\n",
    "fry.workplace"
   ]
  },
  {
   "cell_type": "markdown",
   "id": "720fe530",
   "metadata": {},
   "source": [
    "### Métodos de instancia\n",
    "\n",
    "Una vez definida una clase, podemos definir una serie de métodos (como el método `__init()__` que ya hemos definido).\n",
    "Estos métodos, se llaman métodos de instancia, que podremos invocar con la notación clásica de `instancia.metodo(argumentos)`. A continuación definimos el método `say_hi()` que hará que una instancia de la clase `Worker` nos mande el saludo que le pasemos como argumento."
   ]
  },
  {
   "cell_type": "code",
   "execution_count": 2,
   "id": "3e59b862",
   "metadata": {},
   "outputs": [],
   "source": [
    "class Worker:\n",
    "    \n",
    "    # atributo de clase\n",
    "    workplace = 'Planet Express'\n",
    "    \n",
    "    def __init__(self, name, age):\n",
    "        # atributos de instancia\n",
    "        self.name = name\n",
    "        self.age = age\n",
    "\n",
    "    # metodo de instancia\n",
    "    def say_hi(self, greetings):\n",
    "        return f\"Hi, I'm {self.name} and I say {greetings}\"\n"
   ]
  },
  {
   "cell_type": "code",
   "execution_count": 10,
   "id": "8a188701",
   "metadata": {},
   "outputs": [
    {
     "data": {
      "text/plain": [
       "\"Hi, I'm Zoidberg and I say w00p w00p w00p w00p\""
      ]
     },
     "execution_count": 10,
     "metadata": {},
     "output_type": "execute_result"
    }
   ],
   "source": [
    "# Creamos una instancia\n",
    "zoidberg = Worker(\"Zoidberg\", 87)\n",
    "zoidberg.say_hi(\"w00p w00p w00p w00p\")"
   ]
  },
  {
   "cell_type": "markdown",
   "id": "77cf243c",
   "metadata": {},
   "source": [
    "\n",
    "**NOTA**\n",
    "*La `f` al inicio del string del `return` indica el tipo de formateo de strings en Python de Literal String Interpolation (o F-strings). Este estilo de formateo pretende ser más sencillo que el uso de `%` y referencias a variables, pudiendo indicar entre corchetes `{}` la expresión que se desea que se evalue dentro del string. Así, al poner la expresión  `{self.name}` se sustituirá por el valor del atributo `name` de la instancia en cuestión, cuando se genere el string.*\n",
    "\n",
    "\n"
   ]
  },
  {
   "cell_type": "markdown",
   "id": "8a25b54a",
   "metadata": {},
   "source": [
    "Bien, ahora tenemos la clase `Worker` con dos métodos, los métodos `__init__()` y `say_hi()` que acabamos de implementar y que manda un saludo."
   ]
  },
  {
   "cell_type": "markdown",
   "id": "cb13bb92",
   "metadata": {},
   "source": [
    "<a id='metodos-especiales'></a>\n",
    "### Métodos especiales\n",
    "\n",
    "Como veíamos antes, los métodos precedidos y seguidos de doble barra baja `__` son métodos especiales. Los métodos especiales son **métodos mágicos** definidos por Python, están reservados y son *así* por convención, son conocidos y están documentados. En la [documentación de Python](https://docs.python.org/3/reference/datamodel.html#special-method-names) podéis ver la lista completa de estos métodos y sus funcionalidades.\n",
    "\n",
    "Al definir estos métodos con `__` estamos sobreescribiendo el comportamiento original del método mágico definido originalmente por Python (*operator overloading*) . Al hacer esto para las clases que nosotros creemos, las estamos dotando del comportamiento que nosotros deseamos para esos métodos especiales. \n",
    "\n",
    "Por ejemplo, podemos definir el método `__str()__`, este método es similar al método `toString()` de Java, es decir, devuelve una cadena de texto o string, que representa al objeto. Este string será el que se muestre cuando se haga un `print` de un objeto.\n"
   ]
  },
  {
   "cell_type": "code",
   "execution_count": 11,
   "id": "07ff7f28",
   "metadata": {},
   "outputs": [],
   "source": [
    "class Worker:\n",
    "    \n",
    "    # atributo de clase\n",
    "    workplace = 'Planet Express'\n",
    "    \n",
    "    def __init__(self, name, age):\n",
    "        # atributos de instancia\n",
    "        self.name = name\n",
    "        self.age = age\n",
    "        \n",
    "    # metodo de instancia\n",
    "    def say_hi(self, greetings):\n",
    "        return f\"Hi, I'm {self.name} and I say {greetings}\"\n",
    "    \n",
    "    # metodo especial\n",
    "    def __str__(self):\n",
    "        return f\"{self.name} is {self.age} years old.\""
   ]
  },
  {
   "cell_type": "code",
   "execution_count": 12,
   "id": "9e975b65",
   "metadata": {},
   "outputs": [
    {
     "name": "stdout",
     "output_type": "stream",
     "text": [
      "Fry is 35 years old.\n"
     ]
    }
   ],
   "source": [
    "# creamos una instancia\n",
    "fry = Worker(\"Fry\", 35)\n",
    "print(fry)"
   ]
  },
  {
   "cell_type": "markdown",
   "id": "fb46ccc2",
   "metadata": {},
   "source": [
    "Otro ejemplo de método especial podemos verlo en la sentencia `a == b`, que en realidad invoca la método `__eq()__` para la clase de los objetos `a` y `b`. Para nuestra clase `Worker`, por ejemplo, si queremos que dos objetos se consideren iguales sin comparten el mismo identificador, podemos añadir un **atributo de instancia** `identifier` y un método `__eq()__` que compare el `identifier` de dos trabajadores para determinar si son el mismo."
   ]
  },
  {
   "cell_type": "code",
   "execution_count": 13,
   "id": "0faf4289",
   "metadata": {},
   "outputs": [],
   "source": [
    "class Worker:\n",
    "    \n",
    "    # atributo de clase\n",
    "    workplace = 'Planet Express'\n",
    "    \n",
    "    def __init__(self, name, age, identifier):\n",
    "        # atributos de instancia\n",
    "        self.name = name\n",
    "        self.age = age\n",
    "        self.identifier = identifier\n",
    "        \n",
    "    # metodo de instancia\n",
    "    def say_hi(self, greetings):\n",
    "        return f\"Hi, I'm {self.name} and I say {greetings}\"\n",
    "    \n",
    "    # metodo especial\n",
    "    def __str__(self):\n",
    "        return f\"{self.name} is {self.age} years old.\"\n",
    "    \n",
    "    # metodo especial de comparacion\n",
    "    def __eq__(self, other):\n",
    "        if isinstance(other, Worker):\n",
    "            return self.identifier == other.identifier\n",
    "        return False"
   ]
  },
  {
   "cell_type": "markdown",
   "id": "3820fda7",
   "metadata": {},
   "source": [
    "**NOTA**\n",
    "*Con el método `isinstance` comprobamos si el objeto `b` con el que se está comparando el objeto `a` es de la misma clase. Es decir, el primer parámetro es el objeto a comprobar y el segundo la clase a la que se desea saber si pertenece. Si es así, se comparan los identificadores. En el caso de que los identificadores sean iguales, se entiende que los objetos son iguales.*"
   ]
  },
  {
   "cell_type": "code",
   "execution_count": 14,
   "id": "ff881bd7",
   "metadata": {},
   "outputs": [
    {
     "data": {
      "text/plain": [
       "True"
      ]
     },
     "execution_count": 14,
     "metadata": {},
     "output_type": "execute_result"
    }
   ],
   "source": [
    "# creamos dos instancias con el mismo identificador\n",
    "hubert = Worker(\"Hubert Farnsworth\", 159, \"000\")\n",
    "cubert = Worker(\"Cubert Farnsworth\", 12, \"000\")\n",
    "\n",
    "# comprobamos si son la misma instancia (a efectos de nuestro criterio)\n",
    "cubert == hubert"
   ]
  },
  {
   "cell_type": "markdown",
   "id": "ccc56716",
   "metadata": {},
   "source": [
    "Como hemos visto, `cubert` y `hubert` son el mismo objeto (es lo que tiene que sean clones)."
   ]
  },
  {
   "cell_type": "markdown",
   "id": "70156f69",
   "metadata": {},
   "source": [
    "---\n",
    "\n",
    "### Ejercicio\n",
    "\n",
    "Crea una clase `Dog` con el atributo de clase `species = 'Canis familiaris'` y los atributos de instancia `name`, `age` y `owner`. Y crea los métodos `__init__`, `say_hi` que reciba como parámetro el ladrido del perro (échale imaginación, cada perro ladra de una manera distinta), el método `__str__` que devuelva como string el nombre y la edad del perro. Por último, implementa el método `__eq__` en función del atributo `owner`, aunque no sea lo más lógico, a efectos de nuestro criterio dos instancias serán iguales si tienen el mismo dueño. "
   ]
  },
  {
   "cell_type": "code",
   "execution_count": null,
   "id": "5dfcaef2",
   "metadata": {},
   "outputs": [],
   "source": [
    "# escribe aqui tu codigo\n",
    "class Dog:\n",
    "    # Atributo de clase\n",
    "    species = \"Canis familiaris\"\n",
    "\n",
    "    def __init__(self, name, age, owner):\n",
    "        self.name = name\n",
    "        self.age = age\n",
    "        self.owner = owner\n",
    "\n",
    "    def say_hi(self, bark):\n",
    "        return f\"{self.name} dice: {bark}\"\n",
    "\n",
    "    def __str__(self):\n",
    "        return f\"Nombre: {self.name}, Edad: {self.age}\"\n",
    "\n",
    "    def __eq__(self, other):\n",
    "        if isinstance(other, Dog):\n",
    "            return self.owner == other.owner\n",
    "        return False\n"
   ]
  },
  {
   "cell_type": "markdown",
   "id": "c65fe752",
   "metadata": {},
   "source": [
    "---\n",
    "\n",
    "## Herencia \n",
    "\n",
    "Igual que en Java, existe el concepto de herencia, clases hijas que tienen los mismos métodos y atributos que las clases padre y que pueden **modificarlos, extenderlos o definir nuevos métodos y atributos**.\n",
    "\n",
    "Sabemos que en el universo de *Futurama* existen múltiples especies de seres vivos inteligentes, así que vamos a definir una clase para cada especie (para un par de ejemplos, ponernos a definir todas las posibles clases sería eterno).\n",
    "\n",
    "La forma más básica de hacerlo es definir una clase hija que tiene como parámetro la clase padre:"
   ]
  },
  {
   "cell_type": "code",
   "execution_count": 15,
   "id": "f1e8e818",
   "metadata": {},
   "outputs": [],
   "source": [
    "class Human (Worker):\n",
    "    pass\n",
    "\n",
    "class Decapodian (Worker):\n",
    "    pass\n",
    "\n",
    "class Mutant (Worker):\n",
    "    pass\n",
    "\n",
    "class Robot (Worker):\n",
    "    pass"
   ]
  },
  {
   "cell_type": "markdown",
   "id": "948f7db4",
   "metadata": {},
   "source": [
    "Ahora ya podemos crear instancias de las clases `Human`, `Decapodian` y `Mutant`. Y comprobar como las clases hijas heredan los atributos y métodos de la clase padre."
   ]
  },
  {
   "cell_type": "code",
   "execution_count": 16,
   "id": "349de5fb",
   "metadata": {},
   "outputs": [
    {
     "name": "stdout",
     "output_type": "stream",
     "text": [
      "Zoidberg is 87 years old.\n"
     ]
    },
    {
     "data": {
      "text/plain": [
       "\"Hi, I'm Bender and I say bite my shiny metal ass!\""
      ]
     },
     "execution_count": 16,
     "metadata": {},
     "output_type": "execute_result"
    }
   ],
   "source": [
    "# definimos instancias de las clases hijas\n",
    "fry = Human(\"Fry\", 35, \"001\")\n",
    "zoidberg = Decapodian(\"Zoidberg\", 87, \"002\")\n",
    "leela = Mutant(\"Leela\", 25, \"003\")\n",
    "bender = Robot(\"Bender\", 4, \"004\")\n",
    "\n",
    "# comprobamos que heredan los atributos y metodos de la clase padre\n",
    "fry.age\n",
    "leela.workplace\n",
    "print(zoidberg)\n",
    "bender.say_hi(\"bite my shiny metal ass!\")"
   ]
  },
  {
   "cell_type": "markdown",
   "id": "dc49001b",
   "metadata": {},
   "source": [
    "Ahora podemos comprobar a que clase pertenecen los objetos:"
   ]
  },
  {
   "cell_type": "code",
   "execution_count": 17,
   "id": "035e4b16",
   "metadata": {},
   "outputs": [
    {
     "data": {
      "text/plain": [
       "__main__.Human"
      ]
     },
     "execution_count": 17,
     "metadata": {},
     "output_type": "execute_result"
    }
   ],
   "source": [
    "type(fry)"
   ]
  },
  {
   "cell_type": "markdown",
   "id": "49f3dea0",
   "metadata": {},
   "source": [
    "Como vemos, indica que el objeto `fry` es de tipo humano, pero, con el método `insinstance()` que hemos utilizado antes, podemos comprobar si el objeto `fry` también pertenece a la clase padre `Worker`."
   ]
  },
  {
   "cell_type": "code",
   "execution_count": 18,
   "id": "231f7959",
   "metadata": {},
   "outputs": [
    {
     "data": {
      "text/plain": [
       "True"
      ]
     },
     "execution_count": 18,
     "metadata": {},
     "output_type": "execute_result"
    }
   ],
   "source": [
    "isinstance(fry, Worker)"
   ]
  },
  {
   "cell_type": "markdown",
   "id": "26cda914",
   "metadata": {},
   "source": [
    "### Extendiendo el funcionamiento de la clase padre\n",
    "\n",
    "Una vez definidas las clases hijas, podemos modificar y extender atributos y métodos o añadir algunos nuevos. En este caso, vamos a modificar el método `say_hi` de cada especie para que *por defecto* diga el saludo más apropiado a cada miembro de una determinada especie. Para ello, lo único que debemos hacer, es definir de nuevo en la clase hija el método que deseamos sobreescribir (modificar o extender) con el mismo nombre que en la clase padre. En este caso, le daremos un saludo por defecto a cada clase."
   ]
  },
  {
   "cell_type": "code",
   "execution_count": 19,
   "id": "3412259a",
   "metadata": {},
   "outputs": [],
   "source": [
    "class Decapodian (Worker):\n",
    "    def say_hi(self, greetings=\"w00p w00p w00p w00p\"):\n",
    "         return f\"Hi, I'm {self.name} and I say {greetings}\"\n",
    "    \n",
    "\n",
    "class Mutant (Worker):\n",
    "    def say_hi(self, greetings=\"mutants live in the sewers of New New York\"):\n",
    "         return f\"Hi, I'm {self.name} and I say {greetings}\"\n",
    "\n",
    "\n",
    "class Robot (Worker):\n",
    "    def say_hi(self, greetings=\"01001000 01100101 01101100 01101100 01101111 00100001\"):\n",
    "         return f\"Hi, I'm {self.name} and I say {greetings}\""
   ]
  },
  {
   "cell_type": "code",
   "execution_count": 20,
   "id": "d601405c",
   "metadata": {},
   "outputs": [
    {
     "name": "stdout",
     "output_type": "stream",
     "text": [
      "Hi, I'm Zoidberg and I say w00p w00p w00p w00p\n",
      "Hi, I'm Leela and I say mutants live in the sewers of New New York\n",
      "Hi, I'm Bender and I say 01001000 01100101 01101100 01101100 01101111 00100001\n",
      "Hi, I'm Leela and I say HI-YA\n"
     ]
    }
   ],
   "source": [
    "# definimos instancias de las clases hijas\n",
    "fry = Human(\"Fry\", 35, \"001\")\n",
    "zoidberg = Decapodian(\"Zoidberg\", 87, \"002\")\n",
    "leela = Mutant(\"Leela\", 25, \"003\")\n",
    "bender = Robot(\"Bender\", 4, \"004\")\n",
    "\n",
    "# comprobamos que el comportamiento se sorbeescribe correctamente\n",
    "print(zoidberg.say_hi())\n",
    "print(leela.say_hi())\n",
    "print(bender.say_hi())\n",
    "\n",
    "# si queremos que de otro saludo, basta con pasarlo como parametro\n",
    "print(leela.say_hi(\"HI-YA\"))"
   ]
  },
  {
   "cell_type": "markdown",
   "id": "e75bec7e",
   "metadata": {},
   "source": [
    "---\n",
    "\n",
    "Con esto se sientan las bases para la creación de clases, sus atributos, métodos y patrones de herencia básicos. Ahora es momento de que lo pongáis en práctica creando una pequeña jerarquía de clases con una serie de atributos y métodos básicos como los que habéis visto aquí."
   ]
  },
  {
   "cell_type": "markdown",
   "id": "22ef1f11",
   "metadata": {},
   "source": [
    "\n",
    "### Ejercicio\n",
    "Define ahora tres clases hijas de la clase `Dog` en función de la raza de perro que sean, por ejemplo, puedes definir las clases `Pug`, `Maltese` y `Schnauzer`. Para cada una de ellas, igual que hemos hecho con los trabajadores de *Planet Express* modifica el método `say_hi` añadiéndole un valor por defecto distinto al argumento `greetings` para cada uno de ellos. Asegúrate de incluir un constructor `__init()__` en la clase padre y sobreescribirlo en las clases hijas, llamando a `super()`.\n",
    "\n",
    "1. Crea una clase base Dog con atributos name y age, un método say_hi, y un __str__.\n",
    "    - Define un constructor __init__(self, name, age) con los atributos name y age.\n",
    "    - Define un método de instancia say_hi() que devuelva un saludo con el nombre del perro.\n",
    "    - Implementa el método especial __str__ para mostrar una representación legible del perro.\n",
    "\n",
    "2. Define tres clases hijas (Pug, Maltese, Schnauzer). En cada clase hija:\n",
    "    - Sobrescribe el constructor __init__, añade un atributo propio de esa raza (snore_level para Pug, fur_length para Maltese, beard_length para Schnauzer) y llama al constructor de la clase padre con super().\n",
    "    - Sobrescribe el método say_hi, asignando un valor por defecto distinto al argumento greetings.\n",
    "    - Sobrescribe el método especial __str__ para mostrar la información específica de esa raza.\n",
    "\n",
    "3. Implementa una función introduce(dog) que demuestre polimorfismo:\n",
    "    - Define una función introduce(dog) que reciba cualquier objeto de tipo Dog y llame a su método say_hi().\n",
    "    - Crea una lista con varios objetos de las distintas razas (Pug, Maltese, Schnauzer) y recórrela llamando a introduce(dog) para comprobar que todos funcionan aunque sean de clases diferentes."
   ]
  },
  {
   "cell_type": "code",
   "execution_count": null,
   "id": "dd5ffd7a",
   "metadata": {},
   "outputs": [],
   "source": [
    "# escribe aqui tu codigo\n",
    "class Dog:\n",
    "    species = \"Canis familiaris\"\n",
    "\n",
    "    def __init__(self, name, age):\n",
    "        self.name = name\n",
    "        self.age = age\n",
    "\n",
    "    def say_hi(self, greetings=\"¡Guau!\"):\n",
    "        return f\"{self.name} dice: {greetings}\"\n",
    "\n",
    "    def __str__(self):\n",
    "        return f\"Nombre: {self.name}, Edad: {self.age}\"\n",
    "\n",
    "\n",
    "# Clases hijas\n",
    "class Pug(Dog):\n",
    "    def __init__(self, name, age, snore_level):\n",
    "        super().__init__(name, age)\n",
    "        self.snore_level = snore_level\n",
    "\n",
    "    def say_hi(self, greetings=\"Snorf snorf\"):\n",
    "        return f\"{self.name} (Pug) dice: {greetings}\"\n",
    "\n",
    "    def __str__(self):\n",
    "        return f\"Nombre: {self.name}, Edad: {self.age}, Ronquidos: {self.snore_level}\"\n",
    "\n",
    "\n",
    "class Maltese(Dog):\n",
    "    def __init__(self, name, age, fur_length):\n",
    "        super().__init__(name, age)\n",
    "        self.fur_length = fur_length\n",
    "\n",
    "    def say_hi(self, greetings=\"Yip yip\"):\n",
    "        return f\"{self.name} (Maltese) dice: {greetings}\"\n",
    "\n",
    "    def __str__(self):\n",
    "        return f\"Nombre: {self.name}, Edad: {self.age}, Largo del pelo: {self.fur_length}\"\n",
    "\n",
    "\n",
    "class Schnauzer(Dog):\n",
    "    def __init__(self, name, age, beard_length):\n",
    "        super().__init__(name, age)\n",
    "        self.beard_length = beard_length\n",
    "\n",
    "    def say_hi(self, greetings=\"Ruff ruff\"):\n",
    "        return f\"{self.name} (Schnauzer) dice: {greetings}\"\n",
    "\n",
    "    def __str__(self):\n",
    "        return f\"Nombre: {self.name}, Edad: {self.age}, Largo de la barba: {self.beard_length}\""
   ]
  }
 ],
 "metadata": {
  "kernelspec": {
   "display_name": ".venv",
   "language": "python",
   "name": "python3"
  },
  "language_info": {
   "codemirror_mode": {
    "name": "ipython",
    "version": 3
   },
   "file_extension": ".py",
   "mimetype": "text/x-python",
   "name": "python",
   "nbconvert_exporter": "python",
   "pygments_lexer": "ipython3",
   "version": "3.11.5"
  }
 },
 "nbformat": 4,
 "nbformat_minor": 5
}
